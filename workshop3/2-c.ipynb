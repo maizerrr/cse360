{
 "cells": [
  {
   "cell_type": "code",
   "execution_count": 1,
   "metadata": {},
   "outputs": [
    {
     "name": "stdout",
     "output_type": "stream",
     "text": [
      "Populating the interactive namespace from numpy and matplotlib\n"
     ]
    }
   ],
   "source": [
    "%pylab inline\n",
    "#plt.style.use('seaborn-whitegrid')\n",
    "pylab.rcParams['figure.figsize'] = (10.0, 10.0)"
   ]
  },
  {
   "cell_type": "code",
   "execution_count": 2,
   "metadata": {},
   "outputs": [],
   "source": [
    "# Obstacles\n",
    "def plot_cir(r):\n",
    "    ax.add_patch(Circle(\n",
    "        r[0],\n",
    "        r[1],\n",
    "        color=r[2]\n",
    "    ))\n",
    "    plot()\n",
    "\n",
    "def plot_cell(r):\n",
    "    ax.add_patch(Rectangle(\n",
    "        r,\n",
    "        1,\n",
    "        1,\n",
    "        facecolor='b'\n",
    "    ))"
   ]
  },
  {
   "cell_type": "code",
   "execution_count": 3,
   "metadata": {},
   "outputs": [],
   "source": [
    "# Define a class called Tree\n",
    "class Tree:\n",
    "    def __init__(self):\n",
    "        self.data = None\n",
    "        self.π = None\n",
    "\n",
    "# Breadth First Search\n",
    "def bfs(s,g):\n",
    "    path_inv = []\n",
    "    tree = []\n",
    "    t = Tree()\n",
    "    t.data = s\n",
    "    tree.append(t)\n",
    "    Q = [t]\n",
    "    not_visited = V\n",
    "    not_visited.remove(s)\n",
    "    while len(Q) > 0:\n",
    "        x = Q[0]\n",
    "        Q.remove(x)\n",
    "        if x.data == g:\n",
    "            print('success')\n",
    "            path_inv.append(x)\n",
    "            while x.π:\n",
    "                x = x.π\n",
    "                path_inv.append(x)\n",
    "        for x1 in adj(x.data):\n",
    "            if x1 in not_visited:\n",
    "                not_visited.remove(x1)\n",
    "                t = Tree()\n",
    "                t.data = x1\n",
    "                t.π = x\n",
    "                tree.append(t)\n",
    "                Q.append(t)\n",
    "    path = []\n",
    "    for i in range(len(path_inv)-1,-1,-1):\n",
    "        path.append(path_inv[i].data)\n",
    "    return path\n",
    "\n",
    "def adj(x):\n",
    "    ret = []\n",
    "    for e in E:\n",
    "        if e[0] == x:\n",
    "            ret.append(e[1])\n",
    "        if e[1] == x:\n",
    "            ret.append(e[0])\n",
    "    return ret"
   ]
  },
  {
   "cell_type": "code",
   "execution_count": 4,
   "metadata": {},
   "outputs": [],
   "source": [
    "# Obstacles info\n",
    "\n",
    "cuboid0 = ((2.725,0),np.sqrt(4^2+1^2)/2,'k')\n",
    "cuboid1 = ((7.425,4.725),np.sqrt(4^2+1^2)/2,'k')\n",
    "cuboid3 = ((-1.025,-1.5),np.sqrt(4^2+1^2)/2,'k')\n",
    "cuboid4 = ((-6.7,6.4),np.sqrt(4^2+1^2)/2,'k')\n",
    "cuboid6 = ((-5.15,-6.2),np.sqrt(4^2+1^2)/2,'k')\n",
    "cylinder10 = ((-1.775,2.1),1/2,'k')\n",
    "cylinder11 = ((-5.8,-0.975),1/2,'k')\n",
    "cylinder12 = ((7.275,-7.75),1/2,'k')\n",
    "cylinder5 = ((2.425,4.075),1/2,'k')\n",
    "cylinder6 = ((4.4,0.875),1/2,'k')\n",
    "cylinder7 = ((2.825,-4.85),1/2,'k')\n",
    "cylinder8 = ((-0.525,6.3),1/2,'k')\n",
    "cylinder9 = ((-5.125,3.425),1/2,'k')\n",
    "\n",
    "sphere9 = ((-7.425,-7.925),1.5/2,'g')\n",
    "omnirob = ((7.625,8.55),0.1,'b')\n",
    "\n",
    "rs = [cuboid0,cuboid1,cuboid3,cuboid4,cuboid6,cylinder10,cylinder11,cylinder12,cylinder5,cylinder6,cylinder7,cylinder8,cylinder9]\n",
    "\n",
    "cs = [(-9,4),(-9,5),(-9,6),(-9,7),(-9,8),\n",
    "      (-8,-8),(-8,-7),(-8,-6),(-8,-5),(-8,4),(-8,5),(-8,3),(-8,6),(-8,7),(-8,8),\n",
    "      (-7,-9),(-7,-8),(-7,-7),(-7,-6),(-7,-5),(-7,-4),(-7,-2),(-7,-1),(-7,0),(-7,2),(-7,3),(-7,4),(-7,5),(-7,6),(-7,7),(-7,8),\n",
    "      (-6,-9),(-6,-8),(-6,-7),(-6,-6),(-6,-5),(-6,-4),(-6,-2),(-6,-1),(-6,0),(-6,2),(-6,3),(-6,4),(-6,5),(-6,6),(-6,7),(-6,8),\n",
    "      (-5,-9),(-5,-8),(-5,-7),(-5,-6),(-5,-5),(-5,-4),(-5,-2),(-5,-1),(-5,2),(-5,3),(-5,4),(-5,5),(-5,6),(-5,7),(-5,8),\n",
    "      (-4,-9),(-4,-8),(-4,-7),(-4,-6),(-4,-5),(-4,-4),(-4,-3),(-4,-2),(-4,-1),(-4,0),\n",
    "      (-3,-8),(-3,-7),(-3,-6),(-3,-5),(-3,-4),(-3,-3),(-3,-2),(-3,-1),(-3,0),(-3,1),(-3,2),(-3,3),\n",
    "      (-2,-4),(-2,-3),(-2,-2),(-2,-1),(-2,0),(-2,1),(-2,2),(-2,3),(-2,5),(-2,6),(-2,7),\n",
    "      (-1,-4),(-1,-3),(-1,-2),(-1,-1),(-1,0),(-1,1),(-1,2),(-1,5),(-1,6),(-1,7),\n",
    "      (0,-4),(0,-3),(0,-2),(0,0),(0,1),(0,-1),(0,5),(0,6),(0,7),\n",
    "      (1,-6),(1,-5),(1,-3),(1,-2),(1,-1),(1,0),(1,1),(1,2),(1,3),(1,4),\n",
    "      (2,-6),(2,-5),(2,-4),(2,-3),(2,-2),(2,-1),(2,0),(2,1),(2,2),(2,3),(2,4),(2,5),\n",
    "      (3,-6),(3,-5),(3,-4),(3,-3),(3,-2),(3,-1),(3,0),(3,1),(3,2),(3,3),(3,4),\n",
    "      (4,-3),(4,-2),(4,-1),(4,0),(4,1),(4,2),(4,4),(4,5),\n",
    "      (5,-1),(5,0),(5,1),(5,2),(5,3),(5,4),(5,5),(5,6),\n",
    "      (6,-9),(6,-8),(6,-7),(6,2),(6,3),(6,4),(6,5),(6,6),(6,7),\n",
    "      (7,-9),(7,-8),(7,-7),(7,2),(7,3),(7,4),(7,5),(7,6),(7,7),\n",
    "      (8,-9),(8,-8),(8,2),(8,3),(8,4),(8,5),(8,6),(8,7),\n",
    "      (9,2),(9,3),(9,4),(9,5),(9,6)\n",
    "      ]"
   ]
  },
  {
   "cell_type": "code",
   "execution_count": 5,
   "metadata": {},
   "outputs": [
    {
     "name": "stdout",
     "output_type": "stream",
     "text": [
      "success\n"
     ]
    },
    {
     "data": {
      "image/png": "[encoded data removed]",
      "text/plain": [
       "<Figure size 720x720 with 1 Axes>"
      ]
     },
     "metadata": {
      "needs_background": "light"
     },
     "output_type": "display_data"
    }
   ],
   "source": [
    "# Initialize the graph\n",
    "fig = plt.figure()\n",
    "ax = fig.gca()\n",
    "    \n",
    "ax.add_patch(Rectangle(\n",
    "        (7,8),\n",
    "        1,\n",
    "        1,\n",
    "        facecolor='r'\n",
    "    ))\n",
    "\n",
    "ax.add_patch(Rectangle(\n",
    "        (-8,-9),\n",
    "        1,\n",
    "        1,\n",
    "        facecolor='g'\n",
    "    ))\n",
    "\n",
    "# Label cells\n",
    "for c in cs:\n",
    "    plot_cell(c)\n",
    "\n",
    "# Store all vertices and edges\n",
    "V = []\n",
    "E = []\n",
    "\n",
    "# Draw vertices and edges\n",
    "for i in range(-9,10):\n",
    "    for j in range(-9,10):\n",
    "        if (i,j) in cs:\n",
    "            continue\n",
    "        plot(i+0.5,j+0.5,'o',color='k')\n",
    "        V.append((i,j))\n",
    "        if (not (i-1,j) in cs) and i > -9:\n",
    "            plot([i-0.5,i+0.5],[j+0.5,j+0.5],'--',color='k')\n",
    "            E.append(((i-1,j),(i,j)))\n",
    "        if (not (i,j-1) in cs) and j > -9:\n",
    "            plot([i+0.5,i+0.5],[j-0.5,j+0.5],'--',color='k')\n",
    "            E.append(((i,j-1),(i,j)))\n",
    "\n",
    "# BFS\n",
    "traj = bfs((7,8),(-8,-9))\n",
    "for i in range(0,len(traj)):\n",
    "    plot(traj[i][0]+0.5,traj[i][1]+0.5,'o',color='r')\n",
    "    if i > 0:\n",
    "        plot([traj[i-1][0]+0.5,traj[i][0]+0.5],[traj[i-1][1]+0.5,traj[i][1]+0.5],'--',color='r')\n",
    "\n",
    "# Draw grid\n",
    "ax.set_xticks(numpy.arange(-9,10,1))\n",
    "ax.set_yticks(numpy.arange(-9,10,1))\n",
    "plt.grid()\n",
    "plt.show()"
   ]
  }
 ],
 "metadata": {
  "kernelspec": {
   "display_name": "Python 3",
   "language": "python",
   "name": "python3"
  },
  "language_info": {
   "codemirror_mode": {
    "name": "ipython",
    "version": 3
   },
   "file_extension": ".py",
   "mimetype": "text/x-python",
   "name": "python",
   "nbconvert_exporter": "python",
   "pygments_lexer": "ipython3",
   "version": "3.8.3"
  }
 },
 "nbformat": 4,
 "nbformat_minor": 4
}
