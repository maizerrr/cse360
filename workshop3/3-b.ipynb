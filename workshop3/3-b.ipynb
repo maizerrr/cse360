{
 "cells": [
  {
   "cell_type": "code",
   "execution_count": 1,
   "metadata": {},
   "outputs": [
    {
     "name": "stdout",
     "output_type": "stream",
     "text": [
      "Populating the interactive namespace from numpy and matplotlib\n"
     ]
    }
   ],
   "source": [
    "%pylab inline\n",
    "#plt.style.use('seaborn-whitegrid')\n",
    "pylab.rcParams['figure.figsize'] = (10.0, 10.0)"
   ]
  },
  {
   "cell_type": "code",
   "execution_count": 2,
   "metadata": {},
   "outputs": [],
   "source": [
    "def plot_cell(r):\n",
    "    ax.add_patch(Rectangle(\n",
    "        r,\n",
    "        1,\n",
    "        1,\n",
    "        facecolor='b'\n",
    "    ))"
   ]
  },
  {
   "cell_type": "code",
   "execution_count": 3,
   "metadata": {},
   "outputs": [],
   "source": [
    "# Define a class called Tree\n",
    "class Tree:\n",
    "    def __init__(self):\n",
    "        self.data = None\n",
    "        self.π = None\n",
    "        self.g = None\n",
    "        self.h = None\n",
    "\n",
    "# A* Search\n",
    "def A_star(s,g):\n",
    "    path_inv = []\n",
    "    Open = []\n",
    "    Close = []\n",
    "    t = Tree()\n",
    "    t.data = s\n",
    "    t.g = 0\n",
    "    t.h = distance(s,g)\n",
    "    Open.append(t)\n",
    "    while len(Open) > 0:\n",
    "        x = Open[0]\n",
    "        for i in range(0,len(Open)):\n",
    "            if (Open[i].g + Open[i].h) < (x.g + x.h):\n",
    "                x = Open[i]\n",
    "        Open.remove(x)\n",
    "        for x1 in adj(x.data):\n",
    "            t = Tree()\n",
    "            t.data = x1\n",
    "            t.π = x\n",
    "            t.g = x.g+1\n",
    "            t.h = distance(x1, g)\n",
    "            if x1 == g:\n",
    "                path_inv.append(t)\n",
    "                Open = []\n",
    "                break\n",
    "            skip_t = False\n",
    "            for z in Open:\n",
    "                if (z.data == x1) and (z.g < t.g):\n",
    "                    skip_t = True\n",
    "            for z in Close:\n",
    "                if (z.data == x1) and (z.g < t.g):\n",
    "                    skip_t = True\n",
    "            if not skip_t:\n",
    "                Open.append(t)\n",
    "        Close.append(x)\n",
    "    path = []\n",
    "    x = path_inv[0]\n",
    "    while x.π:\n",
    "        x = x.π\n",
    "        path_inv.append(x)\n",
    "    for i in range(len(path_inv)-1,-1,-1):\n",
    "        path.append(path_inv[i].data)\n",
    "    return path\n",
    "\n",
    "def adj(x):\n",
    "    ret = []\n",
    "    for e in E:\n",
    "        if e[0] == x:\n",
    "            ret.append(e[1])\n",
    "        if e[1] == x:\n",
    "            ret.append(e[0])\n",
    "    return ret\n",
    "\n",
    "def distance(u, v):\n",
    "    x = u[0] - v[0]\n",
    "    y = u[1] - v[1]\n",
    "    return np.sqrt(x**2 + y**2)"
   ]
  },
  {
   "cell_type": "code",
   "execution_count": 4,
   "metadata": {},
   "outputs": [],
   "source": [
    "# Obstacles info\n",
    "cs = [(-9,4),(-9,5),(-9,6),(-9,7),(-9,8),\n",
    "      (-8,-8),(-8,-7),(-8,-6),(-8,-5),(-8,4),(-8,5),(-8,3),(-8,6),(-8,7),(-8,8),\n",
    "      (-7,-9),(-7,-8),(-7,-7),(-7,-6),(-7,-5),(-7,-4),(-7,-2),(-7,-1),(-7,0),(-7,2),(-7,3),(-7,4),(-7,5),(-7,6),(-7,7),(-7,8),\n",
    "      (-6,-9),(-6,-8),(-6,-7),(-6,-6),(-6,-5),(-6,-4),(-6,-2),(-6,-1),(-6,0),(-6,2),(-6,3),(-6,4),(-6,5),(-6,6),(-6,7),(-6,8),\n",
    "      (-5,-9),(-5,-8),(-5,-7),(-5,-6),(-5,-5),(-5,-4),(-5,-2),(-5,-1),(-5,2),(-5,3),(-5,4),(-5,5),(-5,6),(-5,7),(-5,8),\n",
    "      (-4,-9),(-4,-8),(-4,-7),(-4,-6),(-4,-5),(-4,-4),(-4,-3),(-4,-2),(-4,-1),(-4,0),\n",
    "      (-3,-8),(-3,-7),(-3,-6),(-3,-5),(-3,-4),(-3,-3),(-3,-2),(-3,-1),(-3,0),(-3,1),(-3,2),(-3,3),\n",
    "      (-2,-4),(-2,-3),(-2,-2),(-2,-1),(-2,0),(-2,1),(-2,2),(-2,3),(-2,5),(-2,6),(-2,7),\n",
    "      (-1,-4),(-1,-3),(-1,-2),(-1,-1),(-1,0),(-1,1),(-1,2),(-1,5),(-1,6),(-1,7),\n",
    "      (0,-4),(0,-3),(0,-2),(0,0),(0,1),(0,-1),(0,5),(0,6),(0,7),\n",
    "      (1,-6),(1,-5),(1,-3),(1,-2),(1,-1),(1,0),(1,1),(1,2),(1,3),(1,4),\n",
    "      (2,-6),(2,-5),(2,-4),(2,-3),(2,-2),(2,-1),(2,0),(2,1),(2,2),(2,3),(2,4),(2,5),\n",
    "      (3,-6),(3,-5),(3,-4),(3,-3),(3,-2),(3,-1),(3,0),(3,1),(3,2),(3,3),(3,4),\n",
    "      (4,-3),(4,-2),(4,-1),(4,0),(4,1),(4,2),(4,4),(4,5),\n",
    "      (5,-1),(5,0),(5,1),(5,2),(5,3),(5,4),(5,5),(5,6),\n",
    "      (6,-9),(6,-8),(6,-7),(6,2),(6,3),(6,4),(6,5),(6,6),(6,7),\n",
    "      (7,-9),(7,-8),(7,-7),(7,2),(7,3),(7,4),(7,5),(7,6),(7,7),\n",
    "      (8,-9),(8,-8),(8,2),(8,3),(8,4),(8,5),(8,6),(8,7),\n",
    "      (9,2),(9,3),(9,4),(9,5),(9,6)\n",
    "      ]"
   ]
  },
  {
   "cell_type": "code",
   "execution_count": 5,
   "metadata": {},
   "outputs": [
    {
     "data": {
      "image/png": "[encoded data removed]",
      "text/plain": [
       "<Figure size 720x720 with 1 Axes>"
      ]
     },
     "metadata": {
      "needs_background": "light"
     },
     "output_type": "display_data"
    }
   ],
   "source": [
    "fig = plt.figure()\n",
    "ax = fig.gca()\n",
    "    \n",
    "ax.add_patch(Rectangle(\n",
    "        (7,8),\n",
    "        1,\n",
    "        1,\n",
    "        facecolor='r'\n",
    "    ))\n",
    "\n",
    "ax.add_patch(Rectangle(\n",
    "        (-8,-9),\n",
    "        1,\n",
    "        1,\n",
    "        facecolor='g'\n",
    "    ))\n",
    "\n",
    "# Label cells\n",
    "for c in cs:\n",
    "    plot_cell(c)\n",
    "    \n",
    "# Store all vertices and edges\n",
    "V = []\n",
    "E = []\n",
    "\n",
    "# Draw vertices and edges\n",
    "for i in range(-9,10):\n",
    "    for j in range(-9,10):\n",
    "        if (i,j) in cs:\n",
    "            continue\n",
    "        plot(i+0.5,j+0.5,'o',color='k')\n",
    "        V.append((i,j))\n",
    "        if (not (i-1,j) in cs) and i > -9:\n",
    "            plot([i-0.5,i+0.5],[j+0.5,j+0.5],'--',color='k')\n",
    "            E.append(((i-1,j),(i,j)))\n",
    "        if (not (i,j-1) in cs) and j > -9:\n",
    "            plot([i+0.5,i+0.5],[j-0.5,j+0.5],'--',color='k')\n",
    "            E.append(((i,j-1),(i,j)))\n",
    "\n",
    "# A* Search\n",
    "traj = A_star((7,8),(-8,-9))\n",
    "for i in range(0,len(traj)):\n",
    "    plot(traj[i][0]+0.5,traj[i][1]+0.5,'o',color='r')\n",
    "    if i > 0:\n",
    "        plot([traj[i-1][0]+0.5,traj[i][0]+0.5],[traj[i-1][1]+0.5,traj[i][1]+0.5],'--',color='r')\n",
    "            \n",
    "# Draw grid\n",
    "ax.set_xticks(numpy.arange(-9,10,1))\n",
    "ax.set_yticks(numpy.arange(-9,10,1))\n",
    "plt.grid()\n",
    "plt.show()"
   ]
  }
 ],
 "metadata": {
  "kernelspec": {
   "display_name": "Python 3",
   "language": "python",
   "name": "python3"
  },
  "language_info": {
   "codemirror_mode": {
    "name": "ipython",
    "version": 3
   },
   "file_extension": ".py",
   "mimetype": "text/x-python",
   "name": "python",
   "nbconvert_exporter": "python",
   "pygments_lexer": "ipython3",
   "version": "3.8.3"
  }
 },
 "nbformat": 4,
 "nbformat_minor": 4
}
