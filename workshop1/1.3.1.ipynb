{
 "cells": [
  {
   "cell_type": "code",
   "execution_count": 1,
   "metadata": {},
   "outputs": [
    {
     "name": "stdout",
     "output_type": "stream",
     "text": [
      "Populating the interactive namespace from numpy and matplotlib\n"
     ]
    }
   ],
   "source": [
    "%pylab inline\n",
    "plt.style.use('seaborn-whitegrid')\n",
    "pylab.rcParams['figure.figsize'] = (10.0, 6.0)"
   ]
  },
  {
   "cell_type": "code",
   "execution_count": 2,
   "metadata": {},
   "outputs": [],
   "source": [
    "# Plotting\n",
    "def plot_points():\n",
    "    plot(X,Y, '--')\n",
    "    plot(X,Y, 'o')\n",
    "    quiver(X,Y, Vx, Vy, color='r')"
   ]
  },
  {
   "cell_type": "code",
   "execution_count": 3,
   "metadata": {},
   "outputs": [],
   "source": [
    "# Obstacles\n",
    "def plot_rec(r):\n",
    "    axis = gca()\n",
    "    axis.add_patch(Rectangle(\n",
    "        r[0],\n",
    "        r[1],\n",
    "        r[2],\n",
    "        facecolor=r[3]\n",
    "    ))"
   ]
  },
  {
   "cell_type": "code",
   "execution_count": 4,
   "metadata": {},
   "outputs": [],
   "source": [
    "# Obstacles info\n",
    "\n",
    "r1 = ((4, -1), 2, 10, 'k')\n",
    "r2 = ((0.5, 2), 2, 3, 'b')\n",
    "r3 = ((-6, -5), 15, 1, 'k')\n",
    "r4 = ((8, 0), 2, 5, 'k')\n",
    "r5 = ((-4, -3), 2, 8, 'k')\n",
    "\n",
    "rs = [r1, r2, r3, r4, r5]"
   ]
  },
  {
   "cell_type": "code",
   "execution_count": 5,
   "metadata": {},
   "outputs": [],
   "source": [
    "\n",
    "##### Requirements for the trajectory\n",
    "\n",
    "# Waypoints\n",
    "p0 = [-5,-7]\n",
    "p1 = [10,-7]\n",
    "p2 = [10,-3]\n",
    "p3 = [4,-3]\n",
    "p4 = [3,7]\n",
    "p5 = [0,7]\n",
    "p6 = [0,-3]\n",
    "p7 = [3,-3]\n",
    "p8 = [4,10]\n",
    "pf = [9,10]\n",
    "\n",
    "# Velocities\n",
    "v0 = [1,0]\n",
    "v1 = [0,1]\n",
    "v2 = [-1,0]\n",
    "v3 = [-0.1,1]\n",
    "v4 = [-1,0]\n",
    "v5 = [0,-1]\n",
    "v6 = [1,0]\n",
    "v7 = [0.1,1.3]\n",
    "v8 = [1,0]\n",
    "vf = [0, -0.001]\n",
    "\n",
    "# Time\n",
    "t0 = 0\n",
    "t1 = 15\n",
    "t2 = 19\n",
    "t3 = 25\n",
    "t4 = 35\n",
    "t5 = 38\n",
    "t6 = 48\n",
    "t7 = 51\n",
    "t8 = 61\n",
    "tf = 66"
   ]
  },
  {
   "cell_type": "code",
   "execution_count": 6,
   "metadata": {
    "scrolled": false
   },
   "outputs": [
    {
     "data": {
      "image/png": "[encoded data removed]",
      "text/plain": [
       "<Figure size 720x432 with 1 Axes>"
      ]
     },
     "metadata": {},
     "output_type": "display_data"
    }
   ],
   "source": [
    "# Convert the initial conditions to a vector form\n",
    "P = np.vstack((p0, p1, p2, p3, p4, p5, p6, p7, p8, pf))\n",
    "V = np.vstack((v0, v1, v2, v3, v4, v5, v6, v7, v8, vf))\n",
    "T = [t0, t1, t2, t3, t4, t5, t6, t7, t8, tf]\n",
    "\n",
    "X, Y = P[:,0], P[:,1]\n",
    "Vx, Vy = V[:,0], V[:,1]\n",
    "\n",
    "# Plot obstacles\n",
    "for r in rs:\n",
    "    plot_rec(r)\n",
    "    \n",
    "plot_points()"
   ]
  }
 ],
 "metadata": {
  "kernelspec": {
   "display_name": "Python 3",
   "language": "python",
   "name": "python3"
  },
  "language_info": {
   "codemirror_mode": {
    "name": "ipython",
    "version": 3
   },
   "file_extension": ".py",
   "mimetype": "text/x-python",
   "name": "python",
   "nbconvert_exporter": "python",
   "pygments_lexer": "ipython3",
   "version": "3.8.3"
  }
 },
 "nbformat": 4,
 "nbformat_minor": 4
}
